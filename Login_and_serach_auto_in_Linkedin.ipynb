{
 "cells": [
  {
   "cell_type": "code",
   "execution_count": 1,
   "metadata": {},
   "outputs": [
    {
     "name": "stdout",
     "output_type": "stream",
     "text": [
      "-Finish importing package\n"
     ]
    }
   ],
   "source": [
    "from selenium import webdriver\n",
    "from selenium.webdriver.common.keys import Keys\n",
    "from selenium.webdriver.common.by import By\n",
    "from time import sleep\n",
    "\n",
    "print('-Finish importing package')"
   ]
  },
  {
   "cell_type": "code",
   "execution_count": 2,
   "metadata": {},
   "outputs": [
    {
     "name": "stdout",
     "output_type": "stream",
     "text": [
      "-Fishish initializing a driver\n"
     ]
    }
   ],
   "source": [
    "#Step 1: Login to Linkedin\n",
    "\n",
    "#Open Chrome and login Linked login site\n",
    "driver = webdriver.Chrome()\n",
    "driver.maximize_window()\n",
    "url = 'https://www.linkedin.com/login'\n",
    "driver.get(url)\n",
    "print('-Fishish initializing a driver')\n",
    "sleep(2)"
   ]
  },
  {
   "cell_type": "code",
   "execution_count": 3,
   "metadata": {},
   "outputs": [
    {
     "name": "stdout",
     "output_type": "stream",
     "text": [
      "-Finish importing the login credential\n",
      "-Finish keying in email\n",
      "-Finish keying in password\n",
      "-Finish logging in\n"
     ]
    }
   ],
   "source": [
    "#Import username and password\n",
    "credential = open('login_credential.txt')\n",
    "line = credential.readlines()\n",
    "username = line[0]\n",
    "password = line[1]\n",
    "print('-Finish importing the login credential')\n",
    "\n",
    "#Key in username\n",
    "email_field = driver.find_element(By.ID, 'username')\n",
    "email_field.send_keys(username)\n",
    "print('-Finish keying in email')\n",
    "sleep(3)\n",
    "\n",
    "#Key in password\n",
    "password_field = driver.find_element(By.NAME, 'session_password')\n",
    "password_field.send_keys(password)\n",
    "print('-Finish keying in password')\n",
    "sleep(2)\n",
    "\n",
    "#Click login button\n",
    "login_field = driver.find_element(By.XPATH, '//*[@id=\"organic-div\"]/form/div[3]/button')\n",
    "#Lấy xPath = chọn trỏ phải phần tử html-> chọn copy-> copy xPath\n",
    "login_field.click()\n",
    "print('-Finish logging in')\n",
    "sleep(3)"
   ]
  },
  {
   "cell_type": "code",
   "execution_count": 4,
   "metadata": {},
   "outputs": [
    {
     "name": "stdout",
     "output_type": "stream",
     "text": [
      "-Finish searching ...\n"
     ]
    }
   ],
   "source": [
    "#Step 2: Search for the profile we want to crawl\n",
    "\n",
    "#Locate the search bar element\n",
    "search_field = driver.find_element(By.CLASS_NAME,'search-global-typeahead__input')\n",
    "#Input the search query to the search bar\n",
    "search_query = input('What profile do you want to scrape?')\n",
    "search_field.send_keys(search_query)\n",
    "\n",
    "#Search\n",
    "search_field.send_keys(Keys.RETURN)\n",
    "sleep(5)\n",
    "print('-Finish searching ...')"
   ]
  }
 ],
 "metadata": {
  "kernelspec": {
   "display_name": "Python 3",
   "language": "python",
   "name": "python3"
  },
  "language_info": {
   "codemirror_mode": {
    "name": "ipython",
    "version": 3
   },
   "file_extension": ".py",
   "mimetype": "text/x-python",
   "name": "python",
   "nbconvert_exporter": "python",
   "pygments_lexer": "ipython3",
   "version": "3.11.1"
  },
  "orig_nbformat": 4,
  "vscode": {
   "interpreter": {
    "hash": "fc6045b06d6c891d701e454e811273ec26c125388e09430210488944ec7c000a"
   }
  }
 },
 "nbformat": 4,
 "nbformat_minor": 2
}
